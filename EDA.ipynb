{
  "nbformat": 4,
  "nbformat_minor": 0,
  "metadata": {
    "colab": {
      "name": "EDA.ipynb",
      "provenance": [],
      "authorship_tag": "ABX9TyNqf2lIux2+3FrAiUQ9eqWt",
      "include_colab_link": true
    },
    "kernelspec": {
      "name": "python3",
      "display_name": "Python 3"
    }
  },
  "cells": [
    {
      "cell_type": "markdown",
      "metadata": {
        "id": "view-in-github",
        "colab_type": "text"
      },
      "source": [
        "<a href=\"https://colab.research.google.com/github/omiderfanmaneshit/speaker_identification-/blob/omid/EDA.ipynb\" target=\"_parent\"><img src=\"https://colab.research.google.com/assets/colab-badge.svg\" alt=\"Open In Colab\"/></a>"
      ]
    },
    {
      "cell_type": "code",
      "metadata": {
        "id": "P1h4ZtN4EoQh",
        "colab_type": "code",
        "colab": {}
      },
      "source": [
        "  !git config --global user.email \"omiderfanmanesh.it@gmail.com\"\n",
        "  !git config --global user.name \"omiderfanmaneshit\""
      ],
      "execution_count": 7,
      "outputs": []
    },
    {
      "cell_type": "code",
      "metadata": {
        "id": "92rpRQRyHC8i",
        "colab_type": "code",
        "colab": {}
      },
      "source": [
        "# !sudo add-apt-repository ppa:git-core/ppa -y\n",
        "# !sudo apt-get update\n",
        "# !sudo apt-get install git -y\n",
        "# !git --version"
      ],
      "execution_count": null,
      "outputs": []
    },
    {
      "cell_type": "code",
      "metadata": {
        "id": "Jo1952-PIIsI",
        "colab_type": "code",
        "colab": {}
      },
      "source": [
        "!git remote set-url origin  git@github.com:omiderfanmaneshit/speaker_identification-.git"
      ],
      "execution_count": 16,
      "outputs": []
    },
    {
      "cell_type": "code",
      "metadata": {
        "id": "851tj6O7Dw0j",
        "colab_type": "code",
        "colab": {
          "base_uri": "https://localhost:8080/",
          "height": 34
        },
        "outputId": "dc102027-4db4-4121-c7c9-38bb94c4778c"
      },
      "source": [
        "# !echo \"# speaker_identification-\" >> README.md\n",
        "# !git init\n",
        "# !git add README.md\n",
        "# !git commit -m \"first commit\"\n",
        "# !git branch -M master\n",
        "!git remote add origin git@github.com:omiderfanmaneshit/speaker_identification-.git\n",
        "# !git push -u origin master\n",
        "                "
      ],
      "execution_count": 17,
      "outputs": [
        {
          "output_type": "stream",
          "text": [
            "fatal: remote origin already exists.\n"
          ],
          "name": "stdout"
        }
      ]
    }
  ]
}